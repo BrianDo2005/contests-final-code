{
 "cells": [
  {
   "cell_type": "code",
   "execution_count": 1,
   "metadata": {},
   "outputs": [],
   "source": [
    "%load_ext autoreload\n",
    "%autoreload 2\n",
    "\n",
    "%matplotlib inline"
   ]
  },
  {
   "cell_type": "code",
   "execution_count": 2,
   "metadata": {},
   "outputs": [],
   "source": [
    "from fastai.imports import *\n",
    "from fastai.structured import *\n",
    "\n",
    "from pandas_summary import DataFrameSummary\n",
    "from sklearn.ensemble import RandomForestRegressor, RandomForestClassifier\n",
    "from IPython.display import display\n",
    "\n",
    "from sklearn import metrics"
   ]
  },
  {
   "cell_type": "code",
   "execution_count": 3,
   "metadata": {},
   "outputs": [],
   "source": [
    "PATH = 'data/doto/'"
   ]
  },
  {
   "cell_type": "code",
   "execution_count": 4,
   "metadata": {},
   "outputs": [
    {
     "name": "stdout",
     "output_type": "stream",
     "text": [
      "\u001b[31mhero_data.csv\u001b[m\u001b[m \u001b[31mtest1.csv\u001b[m\u001b[m     \u001b[31mtest9.csv\u001b[m\u001b[m     \u001b[31mtrain1.csv\u001b[m\u001b[m    \u001b[31mtrain9.csv\u001b[m\u001b[m\r\n"
     ]
    }
   ],
   "source": [
    "!ls {PATH}"
   ]
  },
  {
   "cell_type": "code",
   "execution_count": 5,
   "metadata": {},
   "outputs": [],
   "source": [
    "df_raw = pd.read_csv(f'{PATH}train9.csv', low_memory=False)"
   ]
  },
  {
   "cell_type": "code",
   "execution_count": 6,
   "metadata": {},
   "outputs": [],
   "source": [
    "def display_all(df):\n",
    "    with pd.option_context(\"display.max_rows\", 1000): \n",
    "        with pd.option_context(\"display.max_columns\", 1000): \n",
    "            display(df)"
   ]
  },
  {
   "cell_type": "code",
   "execution_count": 7,
   "metadata": {},
   "outputs": [],
   "source": [
    "train_cats(df_raw)"
   ]
  },
  {
   "cell_type": "code",
   "execution_count": 8,
   "metadata": {},
   "outputs": [
    {
     "data": {
      "text/html": [
       "<div>\n",
       "<style scoped>\n",
       "    .dataframe tbody tr th:only-of-type {\n",
       "        vertical-align: middle;\n",
       "    }\n",
       "\n",
       "    .dataframe tbody tr th {\n",
       "        vertical-align: top;\n",
       "    }\n",
       "\n",
       "    .dataframe thead th {\n",
       "        text-align: right;\n",
       "    }\n",
       "</style>\n",
       "<table border=\"1\" class=\"dataframe\">\n",
       "  <thead>\n",
       "    <tr style=\"text-align: right;\">\n",
       "      <th></th>\n",
       "      <th>user_id</th>\n",
       "      <th>hero_id</th>\n",
       "      <th>id</th>\n",
       "      <th>num_games</th>\n",
       "      <th>num_wins</th>\n",
       "      <th>kda_ratio</th>\n",
       "    </tr>\n",
       "  </thead>\n",
       "  <tbody>\n",
       "    <tr>\n",
       "      <th>18841</th>\n",
       "      <td>2992</td>\n",
       "      <td>8</td>\n",
       "      <td>2992_8</td>\n",
       "      <td>97</td>\n",
       "      <td>59</td>\n",
       "      <td>4153.992395</td>\n",
       "    </tr>\n",
       "    <tr>\n",
       "      <th>18842</th>\n",
       "      <td>2992</td>\n",
       "      <td>34</td>\n",
       "      <td>2992_34</td>\n",
       "      <td>93</td>\n",
       "      <td>40</td>\n",
       "      <td>3571.428572</td>\n",
       "    </tr>\n",
       "    <tr>\n",
       "      <th>18843</th>\n",
       "      <td>2992</td>\n",
       "      <td>70</td>\n",
       "      <td>2992_70</td>\n",
       "      <td>89</td>\n",
       "      <td>53</td>\n",
       "      <td>4212.180747</td>\n",
       "    </tr>\n",
       "    <tr>\n",
       "      <th>18844</th>\n",
       "      <td>2992</td>\n",
       "      <td>76</td>\n",
       "      <td>2992_76</td>\n",
       "      <td>290</td>\n",
       "      <td>211</td>\n",
       "      <td>5471.003135</td>\n",
       "    </tr>\n",
       "    <tr>\n",
       "      <th>18845</th>\n",
       "      <td>2992</td>\n",
       "      <td>114</td>\n",
       "      <td>2992_114</td>\n",
       "      <td>89</td>\n",
       "      <td>58</td>\n",
       "      <td>4396.396396</td>\n",
       "    </tr>\n",
       "  </tbody>\n",
       "</table>\n",
       "</div>"
      ],
      "text/plain": [
       "       user_id  hero_id        id  num_games  num_wins    kda_ratio\n",
       "18841     2992        8    2992_8         97        59  4153.992395\n",
       "18842     2992       34   2992_34         93        40  3571.428572\n",
       "18843     2992       70   2992_70         89        53  4212.180747\n",
       "18844     2992       76   2992_76        290       211  5471.003135\n",
       "18845     2992      114  2992_114         89        58  4396.396396"
      ]
     },
     "metadata": {},
     "output_type": "display_data"
    }
   ],
   "source": [
    "display_all(df_raw.tail())"
   ]
  },
  {
   "cell_type": "code",
   "execution_count": 9,
   "metadata": {},
   "outputs": [],
   "source": [
    "df_raw = df_raw.drop('id',axis=1)"
   ]
  },
  {
   "cell_type": "code",
   "execution_count": 10,
   "metadata": {},
   "outputs": [
    {
     "data": {
      "text/html": [
       "<div>\n",
       "<style scoped>\n",
       "    .dataframe tbody tr th:only-of-type {\n",
       "        vertical-align: middle;\n",
       "    }\n",
       "\n",
       "    .dataframe tbody tr th {\n",
       "        vertical-align: top;\n",
       "    }\n",
       "\n",
       "    .dataframe thead th {\n",
       "        text-align: right;\n",
       "    }\n",
       "</style>\n",
       "<table border=\"1\" class=\"dataframe\">\n",
       "  <thead>\n",
       "    <tr style=\"text-align: right;\">\n",
       "      <th></th>\n",
       "      <th>user_id</th>\n",
       "      <th>hero_id</th>\n",
       "      <th>num_games</th>\n",
       "      <th>num_wins</th>\n",
       "      <th>kda_ratio</th>\n",
       "    </tr>\n",
       "  </thead>\n",
       "  <tbody>\n",
       "    <tr>\n",
       "      <th>18841</th>\n",
       "      <td>2992</td>\n",
       "      <td>8</td>\n",
       "      <td>97</td>\n",
       "      <td>59</td>\n",
       "      <td>4153.992395</td>\n",
       "    </tr>\n",
       "    <tr>\n",
       "      <th>18842</th>\n",
       "      <td>2992</td>\n",
       "      <td>34</td>\n",
       "      <td>93</td>\n",
       "      <td>40</td>\n",
       "      <td>3571.428572</td>\n",
       "    </tr>\n",
       "    <tr>\n",
       "      <th>18843</th>\n",
       "      <td>2992</td>\n",
       "      <td>70</td>\n",
       "      <td>89</td>\n",
       "      <td>53</td>\n",
       "      <td>4212.180747</td>\n",
       "    </tr>\n",
       "    <tr>\n",
       "      <th>18844</th>\n",
       "      <td>2992</td>\n",
       "      <td>76</td>\n",
       "      <td>290</td>\n",
       "      <td>211</td>\n",
       "      <td>5471.003135</td>\n",
       "    </tr>\n",
       "    <tr>\n",
       "      <th>18845</th>\n",
       "      <td>2992</td>\n",
       "      <td>114</td>\n",
       "      <td>89</td>\n",
       "      <td>58</td>\n",
       "      <td>4396.396396</td>\n",
       "    </tr>\n",
       "  </tbody>\n",
       "</table>\n",
       "</div>"
      ],
      "text/plain": [
       "       user_id  hero_id  num_games  num_wins    kda_ratio\n",
       "18841     2992        8         97        59  4153.992395\n",
       "18842     2992       34         93        40  3571.428572\n",
       "18843     2992       70         89        53  4212.180747\n",
       "18844     2992       76        290       211  5471.003135\n",
       "18845     2992      114         89        58  4396.396396"
      ]
     },
     "metadata": {},
     "output_type": "display_data"
    }
   ],
   "source": [
    "display_all(df_raw.tail())"
   ]
  },
  {
   "cell_type": "code",
   "execution_count": 11,
   "metadata": {},
   "outputs": [],
   "source": [
    "df_raw['kda']=df_raw['kda_ratio']/df_raw['num_games']"
   ]
  },
  {
   "cell_type": "code",
   "execution_count": 12,
   "metadata": {},
   "outputs": [
    {
     "data": {
      "text/html": [
       "<div>\n",
       "<style scoped>\n",
       "    .dataframe tbody tr th:only-of-type {\n",
       "        vertical-align: middle;\n",
       "    }\n",
       "\n",
       "    .dataframe tbody tr th {\n",
       "        vertical-align: top;\n",
       "    }\n",
       "\n",
       "    .dataframe thead th {\n",
       "        text-align: right;\n",
       "    }\n",
       "</style>\n",
       "<table border=\"1\" class=\"dataframe\">\n",
       "  <thead>\n",
       "    <tr style=\"text-align: right;\">\n",
       "      <th></th>\n",
       "      <th>user_id</th>\n",
       "      <th>hero_id</th>\n",
       "      <th>num_games</th>\n",
       "      <th>num_wins</th>\n",
       "      <th>kda_ratio</th>\n",
       "      <th>kda</th>\n",
       "    </tr>\n",
       "  </thead>\n",
       "  <tbody>\n",
       "    <tr>\n",
       "      <th>0</th>\n",
       "      <td>1</td>\n",
       "      <td>74</td>\n",
       "      <td>304</td>\n",
       "      <td>185</td>\n",
       "      <td>3743.699732</td>\n",
       "      <td>12.314802</td>\n",
       "    </tr>\n",
       "    <tr>\n",
       "      <th>1</th>\n",
       "      <td>1</td>\n",
       "      <td>65</td>\n",
       "      <td>255</td>\n",
       "      <td>151</td>\n",
       "      <td>4009.021513</td>\n",
       "      <td>15.721653</td>\n",
       "    </tr>\n",
       "    <tr>\n",
       "      <th>2</th>\n",
       "      <td>1</td>\n",
       "      <td>39</td>\n",
       "      <td>203</td>\n",
       "      <td>135</td>\n",
       "      <td>5094.621514</td>\n",
       "      <td>25.096658</td>\n",
       "    </tr>\n",
       "    <tr>\n",
       "      <th>3</th>\n",
       "      <td>1</td>\n",
       "      <td>106</td>\n",
       "      <td>158</td>\n",
       "      <td>106</td>\n",
       "      <td>4619.212963</td>\n",
       "      <td>29.235525</td>\n",
       "    </tr>\n",
       "    <tr>\n",
       "      <th>4</th>\n",
       "      <td>1</td>\n",
       "      <td>2</td>\n",
       "      <td>157</td>\n",
       "      <td>94</td>\n",
       "      <td>2871.627907</td>\n",
       "      <td>18.290624</td>\n",
       "    </tr>\n",
       "  </tbody>\n",
       "</table>\n",
       "</div>"
      ],
      "text/plain": [
       "   user_id  hero_id  num_games  num_wins    kda_ratio        kda\n",
       "0        1       74        304       185  3743.699732  12.314802\n",
       "1        1       65        255       151  4009.021513  15.721653\n",
       "2        1       39        203       135  5094.621514  25.096658\n",
       "3        1      106        158       106  4619.212963  29.235525\n",
       "4        1        2        157        94  2871.627907  18.290624"
      ]
     },
     "metadata": {},
     "output_type": "display_data"
    }
   ],
   "source": [
    "display_all(df_raw.head())"
   ]
  },
  {
   "cell_type": "code",
   "execution_count": 13,
   "metadata": {},
   "outputs": [],
   "source": [
    "user_ids = df_raw.user_id.unique()"
   ]
  },
  {
   "cell_type": "code",
   "execution_count": 14,
   "metadata": {},
   "outputs": [
    {
     "data": {
      "text/plain": [
       "array([   1,    2,    5, ..., 2990, 2991, 2992])"
      ]
     },
     "execution_count": 14,
     "metadata": {},
     "output_type": "execute_result"
    }
   ],
   "source": [
    "user_ids"
   ]
  },
  {
   "cell_type": "code",
   "execution_count": 15,
   "metadata": {},
   "outputs": [],
   "source": [
    "df1 = df_raw.groupby('user_id').agg(lambda x: x.tolist())"
   ]
  },
  {
   "cell_type": "code",
   "execution_count": 16,
   "metadata": {},
   "outputs": [
    {
     "data": {
      "text/html": [
       "<div>\n",
       "<style scoped>\n",
       "    .dataframe tbody tr th:only-of-type {\n",
       "        vertical-align: middle;\n",
       "    }\n",
       "\n",
       "    .dataframe tbody tr th {\n",
       "        vertical-align: top;\n",
       "    }\n",
       "\n",
       "    .dataframe thead th {\n",
       "        text-align: right;\n",
       "    }\n",
       "</style>\n",
       "<table border=\"1\" class=\"dataframe\">\n",
       "  <thead>\n",
       "    <tr style=\"text-align: right;\">\n",
       "      <th></th>\n",
       "      <th>hero_id</th>\n",
       "      <th>num_games</th>\n",
       "      <th>num_wins</th>\n",
       "      <th>kda_ratio</th>\n",
       "      <th>kda</th>\n",
       "    </tr>\n",
       "    <tr>\n",
       "      <th>user_id</th>\n",
       "      <th></th>\n",
       "      <th></th>\n",
       "      <th></th>\n",
       "      <th></th>\n",
       "      <th></th>\n",
       "    </tr>\n",
       "  </thead>\n",
       "  <tbody>\n",
       "    <tr>\n",
       "      <th>1</th>\n",
       "      <td>[74, 65, 39, 106, 2, 46, 51, 17, 69]</td>\n",
       "      <td>[304, 255, 203, 158, 157, 154, 128, 118, 116]</td>\n",
       "      <td>[185, 151, 135, 106, 94, 103, 78, 75, 65]</td>\n",
       "      <td>[3743.6997318999997, 4009.0215128, 5094.621513...</td>\n",
       "      <td>[12.314801749671052, 15.72165299137255, 25.096...</td>\n",
       "    </tr>\n",
       "    <tr>\n",
       "      <th>2</th>\n",
       "      <td>[74, 8, 11, 52, 73, 70, 39, 18, 76]</td>\n",
       "      <td>[657, 493, 487, 386, 241, 218, 205, 195, 172]</td>\n",
       "      <td>[362, 256, 229, 240, 123, 134, 106, 113, 85]</td>\n",
       "      <td>[3061.0596341, 2712.1680049, 2664.801343, 3007...</td>\n",
       "      <td>[4.659147083866058, 5.501354979513185, 5.47187...</td>\n",
       "    </tr>\n",
       "    <tr>\n",
       "      <th>5</th>\n",
       "      <td>[74, 46, 1, 93, 8, 17, 11, 109, 10]</td>\n",
       "      <td>[276, 251, 240, 237, 224, 212, 196, 176, 167]</td>\n",
       "      <td>[160, 162, 145, 137, 116, 122, 100, 105, 106]</td>\n",
       "      <td>[3899.4082841, 3785.1307189000004, 5032.214765...</td>\n",
       "      <td>[14.12829088442029, 15.08020206733068, 20.9675...</td>\n",
       "    </tr>\n",
       "    <tr>\n",
       "      <th>6</th>\n",
       "      <td>[74, 53, 13, 9, 19, 17, 80, 51, 25]</td>\n",
       "      <td>[295, 293, 247, 204, 202, 197, 186, 185, 185]</td>\n",
       "      <td>[166, 152, 128, 118, 121, 114, 104, 118, 107]</td>\n",
       "      <td>[3802.3019634999996, 3383.6784409999996, 4087....</td>\n",
       "      <td>[12.889159198305084, 11.548390583617746, 16.54...</td>\n",
       "    </tr>\n",
       "    <tr>\n",
       "      <th>7</th>\n",
       "      <td>[62, 91, 22, 67, 17, 106, 27, 75, 54]</td>\n",
       "      <td>[1512, 1107, 1058, 474, 424, 381, 300, 296, 293]</td>\n",
       "      <td>[855, 643, 568, 249, 200, 196, 167, 165, 140]</td>\n",
       "      <td>[3181.3036334000003, 2126.5707105, 3716.117468...</td>\n",
       "      <td>[2.1040367945767198, 1.9210214186991872, 3.512...</td>\n",
       "    </tr>\n",
       "  </tbody>\n",
       "</table>\n",
       "</div>"
      ],
      "text/plain": [
       "                                       hero_id  \\\n",
       "user_id                                          \n",
       "1         [74, 65, 39, 106, 2, 46, 51, 17, 69]   \n",
       "2          [74, 8, 11, 52, 73, 70, 39, 18, 76]   \n",
       "5          [74, 46, 1, 93, 8, 17, 11, 109, 10]   \n",
       "6          [74, 53, 13, 9, 19, 17, 80, 51, 25]   \n",
       "7        [62, 91, 22, 67, 17, 106, 27, 75, 54]   \n",
       "\n",
       "                                                num_games  \\\n",
       "user_id                                                     \n",
       "1           [304, 255, 203, 158, 157, 154, 128, 118, 116]   \n",
       "2           [657, 493, 487, 386, 241, 218, 205, 195, 172]   \n",
       "5           [276, 251, 240, 237, 224, 212, 196, 176, 167]   \n",
       "6           [295, 293, 247, 204, 202, 197, 186, 185, 185]   \n",
       "7        [1512, 1107, 1058, 474, 424, 381, 300, 296, 293]   \n",
       "\n",
       "                                              num_wins  \\\n",
       "user_id                                                  \n",
       "1            [185, 151, 135, 106, 94, 103, 78, 75, 65]   \n",
       "2         [362, 256, 229, 240, 123, 134, 106, 113, 85]   \n",
       "5        [160, 162, 145, 137, 116, 122, 100, 105, 106]   \n",
       "6        [166, 152, 128, 118, 121, 114, 104, 118, 107]   \n",
       "7        [855, 643, 568, 249, 200, 196, 167, 165, 140]   \n",
       "\n",
       "                                                 kda_ratio  \\\n",
       "user_id                                                      \n",
       "1        [3743.6997318999997, 4009.0215128, 5094.621513...   \n",
       "2        [3061.0596341, 2712.1680049, 2664.801343, 3007...   \n",
       "5        [3899.4082841, 3785.1307189000004, 5032.214765...   \n",
       "6        [3802.3019634999996, 3383.6784409999996, 4087....   \n",
       "7        [3181.3036334000003, 2126.5707105, 3716.117468...   \n",
       "\n",
       "                                                       kda  \n",
       "user_id                                                     \n",
       "1        [12.314801749671052, 15.72165299137255, 25.096...  \n",
       "2        [4.659147083866058, 5.501354979513185, 5.47187...  \n",
       "5        [14.12829088442029, 15.08020206733068, 20.9675...  \n",
       "6        [12.889159198305084, 11.548390583617746, 16.54...  \n",
       "7        [2.1040367945767198, 1.9210214186991872, 3.512...  "
      ]
     },
     "execution_count": 16,
     "metadata": {},
     "output_type": "execute_result"
    }
   ],
   "source": [
    "df1.head()"
   ]
  },
  {
   "cell_type": "code",
   "execution_count": 17,
   "metadata": {},
   "outputs": [
    {
     "data": {
      "text/plain": [
       "2094"
      ]
     },
     "execution_count": 17,
     "metadata": {},
     "output_type": "execute_result"
    }
   ],
   "source": [
    "count = 0\n",
    "list_kda=[]\n",
    "for x in range(len(df1)):\n",
    "    list_kda.append((sum(df1.iloc[x]['kda'])/9))\n",
    "#     print(list_kda/9)\n",
    "    count+=1\n",
    "count"
   ]
  },
  {
   "cell_type": "code",
   "execution_count": 18,
   "metadata": {},
   "outputs": [],
   "source": [
    "# list_kda"
   ]
  },
  {
   "cell_type": "code",
   "execution_count": 19,
   "metadata": {},
   "outputs": [],
   "source": [
    "df1['kda_avg'] = list_kda"
   ]
  },
  {
   "cell_type": "code",
   "execution_count": 20,
   "metadata": {
    "scrolled": true
   },
   "outputs": [
    {
     "data": {
      "text/html": [
       "<div>\n",
       "<style scoped>\n",
       "    .dataframe tbody tr th:only-of-type {\n",
       "        vertical-align: middle;\n",
       "    }\n",
       "\n",
       "    .dataframe tbody tr th {\n",
       "        vertical-align: top;\n",
       "    }\n",
       "\n",
       "    .dataframe thead th {\n",
       "        text-align: right;\n",
       "    }\n",
       "</style>\n",
       "<table border=\"1\" class=\"dataframe\">\n",
       "  <thead>\n",
       "    <tr style=\"text-align: right;\">\n",
       "      <th></th>\n",
       "      <th>hero_id</th>\n",
       "      <th>num_games</th>\n",
       "      <th>num_wins</th>\n",
       "      <th>kda_ratio</th>\n",
       "      <th>kda</th>\n",
       "      <th>kda_avg</th>\n",
       "    </tr>\n",
       "    <tr>\n",
       "      <th>user_id</th>\n",
       "      <th></th>\n",
       "      <th></th>\n",
       "      <th></th>\n",
       "      <th></th>\n",
       "      <th></th>\n",
       "      <th></th>\n",
       "    </tr>\n",
       "  </thead>\n",
       "  <tbody>\n",
       "    <tr>\n",
       "      <th>1</th>\n",
       "      <td>[74, 65, 39, 106, 2, 46, 51, 17, 69]</td>\n",
       "      <td>[304, 255, 203, 158, 157, 154, 128, 118, 116]</td>\n",
       "      <td>[185, 151, 135, 106, 94, 103, 78, 75, 65]</td>\n",
       "      <td>[3743.6997318999997, 4009.0215128, 5094.621513...</td>\n",
       "      <td>[12.314801749671052, 15.72165299137255, 25.096...</td>\n",
       "      <td>23.735499</td>\n",
       "    </tr>\n",
       "    <tr>\n",
       "      <th>2</th>\n",
       "      <td>[74, 8, 11, 52, 73, 70, 39, 18, 76]</td>\n",
       "      <td>[657, 493, 487, 386, 241, 218, 205, 195, 172]</td>\n",
       "      <td>[362, 256, 229, 240, 123, 134, 106, 113, 85]</td>\n",
       "      <td>[3061.0596341, 2712.1680049, 2664.801343, 3007...</td>\n",
       "      <td>[4.659147083866058, 5.501354979513185, 5.47187...</td>\n",
       "      <td>10.385079</td>\n",
       "    </tr>\n",
       "    <tr>\n",
       "      <th>5</th>\n",
       "      <td>[74, 46, 1, 93, 8, 17, 11, 109, 10]</td>\n",
       "      <td>[276, 251, 240, 237, 224, 212, 196, 176, 167]</td>\n",
       "      <td>[160, 162, 145, 137, 116, 122, 100, 105, 106]</td>\n",
       "      <td>[3899.4082841, 3785.1307189000004, 5032.214765...</td>\n",
       "      <td>[14.12829088442029, 15.08020206733068, 20.9675...</td>\n",
       "      <td>19.712627</td>\n",
       "    </tr>\n",
       "    <tr>\n",
       "      <th>6</th>\n",
       "      <td>[74, 53, 13, 9, 19, 17, 80, 51, 25]</td>\n",
       "      <td>[295, 293, 247, 204, 202, 197, 186, 185, 185]</td>\n",
       "      <td>[166, 152, 128, 118, 121, 114, 104, 118, 107]</td>\n",
       "      <td>[3802.3019634999996, 3383.6784409999996, 4087....</td>\n",
       "      <td>[12.889159198305084, 11.548390583617746, 16.54...</td>\n",
       "      <td>18.194261</td>\n",
       "    </tr>\n",
       "    <tr>\n",
       "      <th>7</th>\n",
       "      <td>[62, 91, 22, 67, 17, 106, 27, 75, 54]</td>\n",
       "      <td>[1512, 1107, 1058, 474, 424, 381, 300, 296, 293]</td>\n",
       "      <td>[855, 643, 568, 249, 200, 196, 167, 165, 140]</td>\n",
       "      <td>[3181.3036334000003, 2126.5707105, 3716.117468...</td>\n",
       "      <td>[2.1040367945767198, 1.9210214186991872, 3.512...</td>\n",
       "      <td>6.416719</td>\n",
       "    </tr>\n",
       "  </tbody>\n",
       "</table>\n",
       "</div>"
      ],
      "text/plain": [
       "                                       hero_id  \\\n",
       "user_id                                          \n",
       "1         [74, 65, 39, 106, 2, 46, 51, 17, 69]   \n",
       "2          [74, 8, 11, 52, 73, 70, 39, 18, 76]   \n",
       "5          [74, 46, 1, 93, 8, 17, 11, 109, 10]   \n",
       "6          [74, 53, 13, 9, 19, 17, 80, 51, 25]   \n",
       "7        [62, 91, 22, 67, 17, 106, 27, 75, 54]   \n",
       "\n",
       "                                                num_games  \\\n",
       "user_id                                                     \n",
       "1           [304, 255, 203, 158, 157, 154, 128, 118, 116]   \n",
       "2           [657, 493, 487, 386, 241, 218, 205, 195, 172]   \n",
       "5           [276, 251, 240, 237, 224, 212, 196, 176, 167]   \n",
       "6           [295, 293, 247, 204, 202, 197, 186, 185, 185]   \n",
       "7        [1512, 1107, 1058, 474, 424, 381, 300, 296, 293]   \n",
       "\n",
       "                                              num_wins  \\\n",
       "user_id                                                  \n",
       "1            [185, 151, 135, 106, 94, 103, 78, 75, 65]   \n",
       "2         [362, 256, 229, 240, 123, 134, 106, 113, 85]   \n",
       "5        [160, 162, 145, 137, 116, 122, 100, 105, 106]   \n",
       "6        [166, 152, 128, 118, 121, 114, 104, 118, 107]   \n",
       "7        [855, 643, 568, 249, 200, 196, 167, 165, 140]   \n",
       "\n",
       "                                                 kda_ratio  \\\n",
       "user_id                                                      \n",
       "1        [3743.6997318999997, 4009.0215128, 5094.621513...   \n",
       "2        [3061.0596341, 2712.1680049, 2664.801343, 3007...   \n",
       "5        [3899.4082841, 3785.1307189000004, 5032.214765...   \n",
       "6        [3802.3019634999996, 3383.6784409999996, 4087....   \n",
       "7        [3181.3036334000003, 2126.5707105, 3716.117468...   \n",
       "\n",
       "                                                       kda    kda_avg  \n",
       "user_id                                                                \n",
       "1        [12.314801749671052, 15.72165299137255, 25.096...  23.735499  \n",
       "2        [4.659147083866058, 5.501354979513185, 5.47187...  10.385079  \n",
       "5        [14.12829088442029, 15.08020206733068, 20.9675...  19.712627  \n",
       "6        [12.889159198305084, 11.548390583617746, 16.54...  18.194261  \n",
       "7        [2.1040367945767198, 1.9210214186991872, 3.512...   6.416719  "
      ]
     },
     "execution_count": 20,
     "metadata": {},
     "output_type": "execute_result"
    }
   ],
   "source": [
    "df1.head()"
   ]
  },
  {
   "cell_type": "code",
   "execution_count": 21,
   "metadata": {},
   "outputs": [],
   "source": [
    "train_raw = pd.read_csv(f'{PATH}train1.csv', low_memory=False)"
   ]
  },
  {
   "cell_type": "code",
   "execution_count": 22,
   "metadata": {},
   "outputs": [
    {
     "data": {
      "text/html": [
       "<div>\n",
       "<style scoped>\n",
       "    .dataframe tbody tr th:only-of-type {\n",
       "        vertical-align: middle;\n",
       "    }\n",
       "\n",
       "    .dataframe tbody tr th {\n",
       "        vertical-align: top;\n",
       "    }\n",
       "\n",
       "    .dataframe thead th {\n",
       "        text-align: right;\n",
       "    }\n",
       "</style>\n",
       "<table border=\"1\" class=\"dataframe\">\n",
       "  <thead>\n",
       "    <tr style=\"text-align: right;\">\n",
       "      <th></th>\n",
       "      <th>user_id</th>\n",
       "      <th>hero_id</th>\n",
       "      <th>id</th>\n",
       "      <th>num_games</th>\n",
       "      <th>num_wins</th>\n",
       "      <th>kda_ratio</th>\n",
       "    </tr>\n",
       "  </thead>\n",
       "  <tbody>\n",
       "    <tr>\n",
       "      <th>0</th>\n",
       "      <td>1</td>\n",
       "      <td>41</td>\n",
       "      <td>1_41</td>\n",
       "      <td>201</td>\n",
       "      <td>125</td>\n",
       "      <td>3731.707317</td>\n",
       "    </tr>\n",
       "    <tr>\n",
       "      <th>1</th>\n",
       "      <td>2</td>\n",
       "      <td>17</td>\n",
       "      <td>2_17</td>\n",
       "      <td>427</td>\n",
       "      <td>234</td>\n",
       "      <td>2922.058381</td>\n",
       "    </tr>\n",
       "    <tr>\n",
       "      <th>2</th>\n",
       "      <td>5</td>\n",
       "      <td>106</td>\n",
       "      <td>5_106</td>\n",
       "      <td>240</td>\n",
       "      <td>130</td>\n",
       "      <td>5116.682739</td>\n",
       "    </tr>\n",
       "    <tr>\n",
       "      <th>3</th>\n",
       "      <td>6</td>\n",
       "      <td>65</td>\n",
       "      <td>6_65</td>\n",
       "      <td>206</td>\n",
       "      <td>122</td>\n",
       "      <td>4131.553861</td>\n",
       "    </tr>\n",
       "    <tr>\n",
       "      <th>4</th>\n",
       "      <td>7</td>\n",
       "      <td>69</td>\n",
       "      <td>7_69</td>\n",
       "      <td>697</td>\n",
       "      <td>382</td>\n",
       "      <td>2474.469306</td>\n",
       "    </tr>\n",
       "  </tbody>\n",
       "</table>\n",
       "</div>"
      ],
      "text/plain": [
       "   user_id  hero_id     id  num_games  num_wins    kda_ratio\n",
       "0        1       41   1_41        201       125  3731.707317\n",
       "1        2       17   2_17        427       234  2922.058381\n",
       "2        5      106  5_106        240       130  5116.682739\n",
       "3        6       65   6_65        206       122  4131.553861\n",
       "4        7       69   7_69        697       382  2474.469306"
      ]
     },
     "metadata": {},
     "output_type": "display_data"
    }
   ],
   "source": [
    "display_all(train_raw.head())"
   ]
  },
  {
   "cell_type": "code",
   "execution_count": 23,
   "metadata": {},
   "outputs": [],
   "source": [
    "train_cats(df_raw)"
   ]
  },
  {
   "cell_type": "code",
   "execution_count": 24,
   "metadata": {},
   "outputs": [],
   "source": [
    "train_raw['kda']=list_kda"
   ]
  },
  {
   "cell_type": "code",
   "execution_count": 25,
   "metadata": {},
   "outputs": [
    {
     "data": {
      "text/plain": [
       "2094"
      ]
     },
     "execution_count": 25,
     "metadata": {},
     "output_type": "execute_result"
    }
   ],
   "source": [
    "len(train_raw)"
   ]
  },
  {
   "cell_type": "code",
   "execution_count": 26,
   "metadata": {},
   "outputs": [],
   "source": [
    "train_raw['pred']=train_raw['kda']*train_raw['num_games']"
   ]
  },
  {
   "cell_type": "code",
   "execution_count": 27,
   "metadata": {},
   "outputs": [],
   "source": [
    "y_actual = train_raw['kda_ratio']"
   ]
  },
  {
   "cell_type": "code",
   "execution_count": 28,
   "metadata": {},
   "outputs": [],
   "source": [
    "y_predicted = train_raw['pred']"
   ]
  },
  {
   "cell_type": "code",
   "execution_count": 34,
   "metadata": {},
   "outputs": [
    {
     "data": {
      "text/html": [
       "<div>\n",
       "<style scoped>\n",
       "    .dataframe tbody tr th:only-of-type {\n",
       "        vertical-align: middle;\n",
       "    }\n",
       "\n",
       "    .dataframe tbody tr th {\n",
       "        vertical-align: top;\n",
       "    }\n",
       "\n",
       "    .dataframe thead th {\n",
       "        text-align: right;\n",
       "    }\n",
       "</style>\n",
       "<table border=\"1\" class=\"dataframe\">\n",
       "  <thead>\n",
       "    <tr style=\"text-align: right;\">\n",
       "      <th></th>\n",
       "      <th>user_id</th>\n",
       "      <th>hero_id</th>\n",
       "      <th>id</th>\n",
       "      <th>num_games</th>\n",
       "      <th>num_wins</th>\n",
       "      <th>kda_ratio</th>\n",
       "      <th>kda</th>\n",
       "      <th>pred</th>\n",
       "    </tr>\n",
       "  </thead>\n",
       "  <tbody>\n",
       "    <tr>\n",
       "      <th>0</th>\n",
       "      <td>1</td>\n",
       "      <td>41</td>\n",
       "      <td>1_41</td>\n",
       "      <td>201</td>\n",
       "      <td>125</td>\n",
       "      <td>3731.707317</td>\n",
       "      <td>23.735499</td>\n",
       "      <td>4770.835378</td>\n",
       "    </tr>\n",
       "    <tr>\n",
       "      <th>1</th>\n",
       "      <td>2</td>\n",
       "      <td>17</td>\n",
       "      <td>2_17</td>\n",
       "      <td>427</td>\n",
       "      <td>234</td>\n",
       "      <td>2922.058381</td>\n",
       "      <td>10.385079</td>\n",
       "      <td>4434.428660</td>\n",
       "    </tr>\n",
       "    <tr>\n",
       "      <th>2</th>\n",
       "      <td>5</td>\n",
       "      <td>106</td>\n",
       "      <td>5_106</td>\n",
       "      <td>240</td>\n",
       "      <td>130</td>\n",
       "      <td>5116.682739</td>\n",
       "      <td>19.712627</td>\n",
       "      <td>4731.030378</td>\n",
       "    </tr>\n",
       "    <tr>\n",
       "      <th>3</th>\n",
       "      <td>6</td>\n",
       "      <td>65</td>\n",
       "      <td>6_65</td>\n",
       "      <td>206</td>\n",
       "      <td>122</td>\n",
       "      <td>4131.553861</td>\n",
       "      <td>18.194261</td>\n",
       "      <td>3748.017731</td>\n",
       "    </tr>\n",
       "    <tr>\n",
       "      <th>4</th>\n",
       "      <td>7</td>\n",
       "      <td>69</td>\n",
       "      <td>7_69</td>\n",
       "      <td>697</td>\n",
       "      <td>382</td>\n",
       "      <td>2474.469306</td>\n",
       "      <td>6.416719</td>\n",
       "      <td>4472.453035</td>\n",
       "    </tr>\n",
       "  </tbody>\n",
       "</table>\n",
       "</div>"
      ],
      "text/plain": [
       "   user_id  hero_id     id  num_games  num_wins    kda_ratio        kda  \\\n",
       "0        1       41   1_41        201       125  3731.707317  23.735499   \n",
       "1        2       17   2_17        427       234  2922.058381  10.385079   \n",
       "2        5      106  5_106        240       130  5116.682739  19.712627   \n",
       "3        6       65   6_65        206       122  4131.553861  18.194261   \n",
       "4        7       69   7_69        697       382  2474.469306   6.416719   \n",
       "\n",
       "          pred  \n",
       "0  4770.835378  \n",
       "1  4434.428660  \n",
       "2  4731.030378  \n",
       "3  3748.017731  \n",
       "4  4472.453035  "
      ]
     },
     "execution_count": 34,
     "metadata": {},
     "output_type": "execute_result"
    }
   ],
   "source": [
    "train_raw.head()"
   ]
  },
  {
   "cell_type": "code",
   "execution_count": 29,
   "metadata": {},
   "outputs": [],
   "source": [
    "from sklearn.metrics import mean_squared_error\n",
    "from math import sqrt\n",
    "\n",
    "rms = sqrt(mean_squared_error(y_actual, y_predicted))"
   ]
  },
  {
   "cell_type": "code",
   "execution_count": 30,
   "metadata": {},
   "outputs": [
    {
     "data": {
      "text/plain": [
       "3484.873196226025"
      ]
     },
     "execution_count": 30,
     "metadata": {},
     "output_type": "execute_result"
    }
   ],
   "source": [
    "rms"
   ]
  },
  {
   "cell_type": "code",
   "execution_count": null,
   "metadata": {},
   "outputs": [],
   "source": [
    "# display_all(train_raw)"
   ]
  },
  {
   "cell_type": "code",
   "execution_count": null,
   "metadata": {},
   "outputs": [],
   "source": [
    "df_raw = pd.read_csv(f'{PATH}test9.csv', low_memory=False)"
   ]
  },
  {
   "cell_type": "code",
   "execution_count": null,
   "metadata": {},
   "outputs": [],
   "source": [
    "df_raw['kda']=df_raw['kda_ratio']/df_raw['num_games']"
   ]
  },
  {
   "cell_type": "code",
   "execution_count": null,
   "metadata": {},
   "outputs": [],
   "source": [
    "df_raw = df_raw.drop('id',axis=1)"
   ]
  },
  {
   "cell_type": "code",
   "execution_count": null,
   "metadata": {},
   "outputs": [],
   "source": [
    "# display_all(df_raw)"
   ]
  },
  {
   "cell_type": "code",
   "execution_count": null,
   "metadata": {},
   "outputs": [],
   "source": [
    "len(df_raw)"
   ]
  },
  {
   "cell_type": "code",
   "execution_count": null,
   "metadata": {},
   "outputs": [],
   "source": [
    "df1 = df_raw.groupby('user_id').agg(lambda x: x.tolist())"
   ]
  },
  {
   "cell_type": "code",
   "execution_count": null,
   "metadata": {},
   "outputs": [],
   "source": [
    "len(df1)"
   ]
  },
  {
   "cell_type": "code",
   "execution_count": null,
   "metadata": {},
   "outputs": [],
   "source": [
    "df1.head()"
   ]
  },
  {
   "cell_type": "code",
   "execution_count": null,
   "metadata": {},
   "outputs": [],
   "source": [
    "count = 0\n",
    "list_kda=[]\n",
    "for x in range(len(df1)):\n",
    "    list_kda.append((sum(df1.iloc[x]['kda'])/9))\n",
    "#     print(list_kda/9)\n",
    "    count+=1\n",
    "count"
   ]
  },
  {
   "cell_type": "code",
   "execution_count": null,
   "metadata": {},
   "outputs": [],
   "source": [
    "df1['kda_avg'] = list_kda"
   ]
  },
  {
   "cell_type": "code",
   "execution_count": null,
   "metadata": {},
   "outputs": [],
   "source": [
    "df1.head()"
   ]
  },
  {
   "cell_type": "code",
   "execution_count": null,
   "metadata": {},
   "outputs": [],
   "source": [
    "train_raw = pd.read_csv(f'{PATH}test1.csv', low_memory=False)"
   ]
  },
  {
   "cell_type": "code",
   "execution_count": null,
   "metadata": {},
   "outputs": [],
   "source": [
    "train_raw.head()"
   ]
  },
  {
   "cell_type": "code",
   "execution_count": null,
   "metadata": {},
   "outputs": [],
   "source": [
    "len(train_raw)"
   ]
  },
  {
   "cell_type": "code",
   "execution_count": null,
   "metadata": {},
   "outputs": [],
   "source": [
    "train_raw['kda']=list_kda"
   ]
  },
  {
   "cell_type": "code",
   "execution_count": null,
   "metadata": {},
   "outputs": [],
   "source": [
    "train_raw.head()"
   ]
  },
  {
   "cell_type": "code",
   "execution_count": null,
   "metadata": {},
   "outputs": [],
   "source": [
    "train_raw['kda_ratio']=train_raw['kda']*train_raw['num_games']"
   ]
  },
  {
   "cell_type": "code",
   "execution_count": null,
   "metadata": {},
   "outputs": [],
   "source": [
    "train_raw.head()"
   ]
  },
  {
   "cell_type": "code",
   "execution_count": null,
   "metadata": {},
   "outputs": [],
   "source": [
    "ids = train_raw['id']"
   ]
  },
  {
   "cell_type": "code",
   "execution_count": null,
   "metadata": {},
   "outputs": [],
   "source": [
    "preds= train_raw['kda_ratio']"
   ]
  },
  {
   "cell_type": "code",
   "execution_count": null,
   "metadata": {},
   "outputs": [],
   "source": [
    "subm = np.stack([ids,preds], axis=1)\n"
   ]
  },
  {
   "cell_type": "code",
   "execution_count": null,
   "metadata": {},
   "outputs": [],
   "source": [
    "submission_file_name = 'doto_kda_pred.csv'\n",
    "np.savetxt(submission_file_name, subm, fmt='%s,%0.5f', header='id,kda_ratio', comments='')"
   ]
  },
  {
   "cell_type": "code",
   "execution_count": null,
   "metadata": {},
   "outputs": [],
   "source": [
    "from IPython.display import FileLink\n",
    "FileLink(submission_file_name)\n"
   ]
  },
  {
   "cell_type": "code",
   "execution_count": null,
   "metadata": {},
   "outputs": [],
   "source": []
  }
 ],
 "metadata": {
  "kernelspec": {
   "display_name": "Python 3",
   "language": "python",
   "name": "python3"
  },
  "language_info": {
   "codemirror_mode": {
    "name": "ipython",
    "version": 3
   },
   "file_extension": ".py",
   "mimetype": "text/x-python",
   "name": "python",
   "nbconvert_exporter": "python",
   "pygments_lexer": "ipython3",
   "version": "3.6.3"
  }
 },
 "nbformat": 4,
 "nbformat_minor": 2
}
